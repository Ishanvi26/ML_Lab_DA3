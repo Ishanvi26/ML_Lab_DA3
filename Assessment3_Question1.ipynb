{
 "cells": [
  {
   "cell_type": "markdown",
   "id": "597aa6a2-aa9d-4675-824f-e2fda9026125",
   "metadata": {},
   "source": [
    "# MACHINE LEARNING LAB - BCSE209P"
   ]
  },
  {
   "cell_type": "markdown",
   "id": "69c3ae5d-eff4-4027-be6f-658d48250352",
   "metadata": {},
   "source": [
    "## Assessment 3"
   ]
  },
  {
   "cell_type": "markdown",
   "id": "20c18da9-af92-44d8-8e1a-0b2a46c8b20b",
   "metadata": {},
   "source": [
    "## Submitted by - Ishanvi Kotha (21BCE2712)"
   ]
  },
  {
   "cell_type": "markdown",
   "id": "b570d7bd-d675-424f-b408-a84a1df34372",
   "metadata": {},
   "source": [
    "------------------------------------------------------------"
   ]
  },
  {
   "cell_type": "markdown",
   "id": "0d72104a-6789-49d3-a1af-86c374971090",
   "metadata": {},
   "source": [
    "## Question 1"
   ]
  },
  {
   "cell_type": "markdown",
   "id": "88d49c27-6172-4319-bdce-c0ec92fcdd24",
   "metadata": {},
   "source": [
    "Try a Support Vector Machine regressor (sklearn.svm.SVR), with various hyperparameters such as kernel=\"linear\" (with various values for the C hyperparameter) or kernel=\"rbf\" (with various values for the C and gamma hyperparameters)."
   ]
  },
  {
   "cell_type": "markdown",
   "id": "77b3ce35-d28d-4851-95bc-dd2656fb0c41",
   "metadata": {},
   "source": [
    "-----"
   ]
  },
  {
   "cell_type": "markdown",
   "id": "27ecac7d-43a1-4fbb-afac-974df413defa",
   "metadata": {},
   "source": [
    "## Importing necessary libraries"
   ]
  },
  {
   "cell_type": "code",
   "execution_count": 1,
   "id": "c24a476a-fb77-408b-8fd4-f3b0aa1042cd",
   "metadata": {},
   "outputs": [],
   "source": [
    "import pandas as pd\n",
    "from sklearn.model_selection import train_test_split\n",
    "from sklearn.svm import SVR\n",
    "from sklearn.metrics import mean_squared_error\n",
    "from sklearn.preprocessing import StandardScaler\n",
    "import matplotlib.pyplot as plt"
   ]
  },
  {
   "cell_type": "markdown",
   "id": "5ea79962-8b98-4a65-a589-fcd50ded528b",
   "metadata": {},
   "source": [
    "## Loading the dataset and inspecting it"
   ]
  },
  {
   "cell_type": "code",
   "execution_count": 2,
   "id": "d1208b1c-bdae-484d-ae16-badfdb825480",
   "metadata": {},
   "outputs": [],
   "source": [
    "data = pd.read_csv('data.csv')"
   ]
  },
  {
   "cell_type": "code",
   "execution_count": 3,
   "id": "a05defac-b7e4-419b-9451-55e6354d1e99",
   "metadata": {},
   "outputs": [
    {
     "data": {
      "text/html": [
       "<div>\n",
       "<style scoped>\n",
       "    .dataframe tbody tr th:only-of-type {\n",
       "        vertical-align: middle;\n",
       "    }\n",
       "\n",
       "    .dataframe tbody tr th {\n",
       "        vertical-align: top;\n",
       "    }\n",
       "\n",
       "    .dataframe thead th {\n",
       "        text-align: right;\n",
       "    }\n",
       "</style>\n",
       "<table border=\"1\" class=\"dataframe\">\n",
       "  <thead>\n",
       "    <tr style=\"text-align: right;\">\n",
       "      <th></th>\n",
       "      <th>ID</th>\n",
       "      <th>crim</th>\n",
       "      <th>zn</th>\n",
       "      <th>indus</th>\n",
       "      <th>chas</th>\n",
       "      <th>nox</th>\n",
       "      <th>rm</th>\n",
       "      <th>age</th>\n",
       "      <th>dis</th>\n",
       "      <th>rad</th>\n",
       "      <th>tax</th>\n",
       "      <th>ptratio</th>\n",
       "      <th>black</th>\n",
       "      <th>lstat</th>\n",
       "      <th>medv</th>\n",
       "    </tr>\n",
       "  </thead>\n",
       "  <tbody>\n",
       "    <tr>\n",
       "      <th>0</th>\n",
       "      <td>1</td>\n",
       "      <td>0.00632</td>\n",
       "      <td>18.0</td>\n",
       "      <td>2.31</td>\n",
       "      <td>0</td>\n",
       "      <td>0.538</td>\n",
       "      <td>6.575</td>\n",
       "      <td>65.2</td>\n",
       "      <td>4.0900</td>\n",
       "      <td>1</td>\n",
       "      <td>296</td>\n",
       "      <td>15.3</td>\n",
       "      <td>396.90</td>\n",
       "      <td>4.98</td>\n",
       "      <td>24.0</td>\n",
       "    </tr>\n",
       "    <tr>\n",
       "      <th>1</th>\n",
       "      <td>2</td>\n",
       "      <td>0.02731</td>\n",
       "      <td>0.0</td>\n",
       "      <td>7.07</td>\n",
       "      <td>0</td>\n",
       "      <td>0.469</td>\n",
       "      <td>6.421</td>\n",
       "      <td>78.9</td>\n",
       "      <td>4.9671</td>\n",
       "      <td>2</td>\n",
       "      <td>242</td>\n",
       "      <td>17.8</td>\n",
       "      <td>396.90</td>\n",
       "      <td>9.14</td>\n",
       "      <td>21.6</td>\n",
       "    </tr>\n",
       "    <tr>\n",
       "      <th>2</th>\n",
       "      <td>4</td>\n",
       "      <td>0.03237</td>\n",
       "      <td>0.0</td>\n",
       "      <td>2.18</td>\n",
       "      <td>0</td>\n",
       "      <td>0.458</td>\n",
       "      <td>6.998</td>\n",
       "      <td>45.8</td>\n",
       "      <td>6.0622</td>\n",
       "      <td>3</td>\n",
       "      <td>222</td>\n",
       "      <td>18.7</td>\n",
       "      <td>394.63</td>\n",
       "      <td>2.94</td>\n",
       "      <td>33.4</td>\n",
       "    </tr>\n",
       "    <tr>\n",
       "      <th>3</th>\n",
       "      <td>5</td>\n",
       "      <td>0.06905</td>\n",
       "      <td>0.0</td>\n",
       "      <td>2.18</td>\n",
       "      <td>0</td>\n",
       "      <td>0.458</td>\n",
       "      <td>7.147</td>\n",
       "      <td>54.2</td>\n",
       "      <td>6.0622</td>\n",
       "      <td>3</td>\n",
       "      <td>222</td>\n",
       "      <td>18.7</td>\n",
       "      <td>396.90</td>\n",
       "      <td>5.33</td>\n",
       "      <td>36.2</td>\n",
       "    </tr>\n",
       "    <tr>\n",
       "      <th>4</th>\n",
       "      <td>7</td>\n",
       "      <td>0.08829</td>\n",
       "      <td>12.5</td>\n",
       "      <td>7.87</td>\n",
       "      <td>0</td>\n",
       "      <td>0.524</td>\n",
       "      <td>6.012</td>\n",
       "      <td>66.6</td>\n",
       "      <td>5.5605</td>\n",
       "      <td>5</td>\n",
       "      <td>311</td>\n",
       "      <td>15.2</td>\n",
       "      <td>395.60</td>\n",
       "      <td>12.43</td>\n",
       "      <td>22.9</td>\n",
       "    </tr>\n",
       "  </tbody>\n",
       "</table>\n",
       "</div>"
      ],
      "text/plain": [
       "   ID     crim    zn  indus  chas    nox     rm   age     dis  rad  tax  \\\n",
       "0   1  0.00632  18.0   2.31     0  0.538  6.575  65.2  4.0900    1  296   \n",
       "1   2  0.02731   0.0   7.07     0  0.469  6.421  78.9  4.9671    2  242   \n",
       "2   4  0.03237   0.0   2.18     0  0.458  6.998  45.8  6.0622    3  222   \n",
       "3   5  0.06905   0.0   2.18     0  0.458  7.147  54.2  6.0622    3  222   \n",
       "4   7  0.08829  12.5   7.87     0  0.524  6.012  66.6  5.5605    5  311   \n",
       "\n",
       "   ptratio   black  lstat  medv  \n",
       "0     15.3  396.90   4.98  24.0  \n",
       "1     17.8  396.90   9.14  21.6  \n",
       "2     18.7  394.63   2.94  33.4  \n",
       "3     18.7  396.90   5.33  36.2  \n",
       "4     15.2  395.60  12.43  22.9  "
      ]
     },
     "execution_count": 3,
     "metadata": {},
     "output_type": "execute_result"
    }
   ],
   "source": [
    "data.head()"
   ]
  },
  {
   "cell_type": "code",
   "execution_count": 4,
   "id": "b3bd2d18-2f0f-4fc7-b8ca-fc14beef1b15",
   "metadata": {},
   "outputs": [
    {
     "data": {
      "text/plain": [
       "(333, 15)"
      ]
     },
     "execution_count": 4,
     "metadata": {},
     "output_type": "execute_result"
    }
   ],
   "source": [
    "data.shape"
   ]
  },
  {
   "cell_type": "markdown",
   "id": "60f17abb-2dec-4dda-9ee3-13f35b49d48f",
   "metadata": {},
   "source": [
    "### Checking for null values"
   ]
  },
  {
   "cell_type": "code",
   "execution_count": 5,
   "id": "46713ba9-4d5d-4e1b-8966-8ffb3e4fbe88",
   "metadata": {},
   "outputs": [
    {
     "data": {
      "text/plain": [
       "ID         False\n",
       "crim       False\n",
       "zn         False\n",
       "indus      False\n",
       "chas       False\n",
       "nox        False\n",
       "rm         False\n",
       "age        False\n",
       "dis        False\n",
       "rad        False\n",
       "tax        False\n",
       "ptratio    False\n",
       "black      False\n",
       "lstat      False\n",
       "medv       False\n",
       "dtype: bool"
      ]
     },
     "execution_count": 5,
     "metadata": {},
     "output_type": "execute_result"
    }
   ],
   "source": [
    "data.isnull().any()"
   ]
  },
  {
   "cell_type": "markdown",
   "id": "e1237b83-48af-4b8e-b23a-7c756bcc044c",
   "metadata": {},
   "source": [
    "### The \"ID\" column is not relevant hence we shall exclude it from the datasets"
   ]
  },
  {
   "cell_type": "code",
   "execution_count": 6,
   "id": "d5c29c40-da10-4c89-8e35-8208c4ac7cfe",
   "metadata": {},
   "outputs": [],
   "source": [
    "data = data.drop('ID', axis=1)"
   ]
  },
  {
   "cell_type": "markdown",
   "id": "ace43db1-31f6-4a93-8a3e-ab439aebde36",
   "metadata": {},
   "source": [
    "### Now we will identify the dependent and independent classes and split them accordingly"
   ]
  },
  {
   "cell_type": "markdown",
   "id": "6e2fe9fe-9af8-4099-8486-d32ed4be394d",
   "metadata": {},
   "source": [
    "### All the columns are indepedent except \"medv\" which is the target class. Hence x = all columns except \"medv\" and y = \"medv\""
   ]
  },
  {
   "cell_type": "code",
   "execution_count": 7,
   "id": "633290da-2cae-4b27-9ef4-5d52816fc227",
   "metadata": {},
   "outputs": [],
   "source": [
    "x = data.drop('medv', axis=1)\n",
    "y = data['medv']"
   ]
  },
  {
   "cell_type": "code",
   "execution_count": 8,
   "id": "d88842e1-ecea-48b3-8280-f18c1297e1d2",
   "metadata": {},
   "outputs": [
    {
     "data": {
      "text/html": [
       "<div>\n",
       "<style scoped>\n",
       "    .dataframe tbody tr th:only-of-type {\n",
       "        vertical-align: middle;\n",
       "    }\n",
       "\n",
       "    .dataframe tbody tr th {\n",
       "        vertical-align: top;\n",
       "    }\n",
       "\n",
       "    .dataframe thead th {\n",
       "        text-align: right;\n",
       "    }\n",
       "</style>\n",
       "<table border=\"1\" class=\"dataframe\">\n",
       "  <thead>\n",
       "    <tr style=\"text-align: right;\">\n",
       "      <th></th>\n",
       "      <th>crim</th>\n",
       "      <th>zn</th>\n",
       "      <th>indus</th>\n",
       "      <th>chas</th>\n",
       "      <th>nox</th>\n",
       "      <th>rm</th>\n",
       "      <th>age</th>\n",
       "      <th>dis</th>\n",
       "      <th>rad</th>\n",
       "      <th>tax</th>\n",
       "      <th>ptratio</th>\n",
       "      <th>black</th>\n",
       "      <th>lstat</th>\n",
       "    </tr>\n",
       "  </thead>\n",
       "  <tbody>\n",
       "    <tr>\n",
       "      <th>0</th>\n",
       "      <td>0.00632</td>\n",
       "      <td>18.0</td>\n",
       "      <td>2.31</td>\n",
       "      <td>0</td>\n",
       "      <td>0.538</td>\n",
       "      <td>6.575</td>\n",
       "      <td>65.2</td>\n",
       "      <td>4.0900</td>\n",
       "      <td>1</td>\n",
       "      <td>296</td>\n",
       "      <td>15.3</td>\n",
       "      <td>396.90</td>\n",
       "      <td>4.98</td>\n",
       "    </tr>\n",
       "    <tr>\n",
       "      <th>1</th>\n",
       "      <td>0.02731</td>\n",
       "      <td>0.0</td>\n",
       "      <td>7.07</td>\n",
       "      <td>0</td>\n",
       "      <td>0.469</td>\n",
       "      <td>6.421</td>\n",
       "      <td>78.9</td>\n",
       "      <td>4.9671</td>\n",
       "      <td>2</td>\n",
       "      <td>242</td>\n",
       "      <td>17.8</td>\n",
       "      <td>396.90</td>\n",
       "      <td>9.14</td>\n",
       "    </tr>\n",
       "    <tr>\n",
       "      <th>2</th>\n",
       "      <td>0.03237</td>\n",
       "      <td>0.0</td>\n",
       "      <td>2.18</td>\n",
       "      <td>0</td>\n",
       "      <td>0.458</td>\n",
       "      <td>6.998</td>\n",
       "      <td>45.8</td>\n",
       "      <td>6.0622</td>\n",
       "      <td>3</td>\n",
       "      <td>222</td>\n",
       "      <td>18.7</td>\n",
       "      <td>394.63</td>\n",
       "      <td>2.94</td>\n",
       "    </tr>\n",
       "    <tr>\n",
       "      <th>3</th>\n",
       "      <td>0.06905</td>\n",
       "      <td>0.0</td>\n",
       "      <td>2.18</td>\n",
       "      <td>0</td>\n",
       "      <td>0.458</td>\n",
       "      <td>7.147</td>\n",
       "      <td>54.2</td>\n",
       "      <td>6.0622</td>\n",
       "      <td>3</td>\n",
       "      <td>222</td>\n",
       "      <td>18.7</td>\n",
       "      <td>396.90</td>\n",
       "      <td>5.33</td>\n",
       "    </tr>\n",
       "    <tr>\n",
       "      <th>4</th>\n",
       "      <td>0.08829</td>\n",
       "      <td>12.5</td>\n",
       "      <td>7.87</td>\n",
       "      <td>0</td>\n",
       "      <td>0.524</td>\n",
       "      <td>6.012</td>\n",
       "      <td>66.6</td>\n",
       "      <td>5.5605</td>\n",
       "      <td>5</td>\n",
       "      <td>311</td>\n",
       "      <td>15.2</td>\n",
       "      <td>395.60</td>\n",
       "      <td>12.43</td>\n",
       "    </tr>\n",
       "  </tbody>\n",
       "</table>\n",
       "</div>"
      ],
      "text/plain": [
       "      crim    zn  indus  chas    nox     rm   age     dis  rad  tax  ptratio  \\\n",
       "0  0.00632  18.0   2.31     0  0.538  6.575  65.2  4.0900    1  296     15.3   \n",
       "1  0.02731   0.0   7.07     0  0.469  6.421  78.9  4.9671    2  242     17.8   \n",
       "2  0.03237   0.0   2.18     0  0.458  6.998  45.8  6.0622    3  222     18.7   \n",
       "3  0.06905   0.0   2.18     0  0.458  7.147  54.2  6.0622    3  222     18.7   \n",
       "4  0.08829  12.5   7.87     0  0.524  6.012  66.6  5.5605    5  311     15.2   \n",
       "\n",
       "    black  lstat  \n",
       "0  396.90   4.98  \n",
       "1  396.90   9.14  \n",
       "2  394.63   2.94  \n",
       "3  396.90   5.33  \n",
       "4  395.60  12.43  "
      ]
     },
     "execution_count": 8,
     "metadata": {},
     "output_type": "execute_result"
    }
   ],
   "source": [
    "x.head()"
   ]
  },
  {
   "cell_type": "code",
   "execution_count": 9,
   "id": "fa9bae28-de51-4c5a-8585-596b046f6838",
   "metadata": {},
   "outputs": [
    {
     "data": {
      "text/plain": [
       "0    24.0\n",
       "1    21.6\n",
       "2    33.4\n",
       "3    36.2\n",
       "4    22.9\n",
       "Name: medv, dtype: float64"
      ]
     },
     "execution_count": 9,
     "metadata": {},
     "output_type": "execute_result"
    }
   ],
   "source": [
    "y.head()"
   ]
  },
  {
   "cell_type": "markdown",
   "id": "0df11a6f-355b-4ed0-8b91-4f70439910eb",
   "metadata": {},
   "source": [
    "### To standardize the dataset, we shall use StandardScaler"
   ]
  },
  {
   "cell_type": "markdown",
   "id": "927c55fb-ba18-4989-8760-0e9a566f7313",
   "metadata": {},
   "source": [
    "### As the values ranges from zero to a few hundreds, scaling is necessary to normalize the data to ensure equal contribution of features"
   ]
  },
  {
   "cell_type": "code",
   "execution_count": 10,
   "id": "6aed1769-90be-42bd-8112-dd5397858cc1",
   "metadata": {},
   "outputs": [],
   "source": [
    "scaler_x = StandardScaler()\n",
    "scaler_y = StandardScaler()"
   ]
  },
  {
   "cell_type": "code",
   "execution_count": 11,
   "id": "898ac38a-035c-4d40-bbff-4fa67aa33522",
   "metadata": {},
   "outputs": [],
   "source": [
    "x_scaled = scaler_x.fit_transform(x)\n",
    "y_scaled = scaler_y.fit_transform(y.values.reshape(-1, 1)).flatten()"
   ]
  },
  {
   "cell_type": "markdown",
   "id": "3752c2c6-515b-492d-ab90-a83c36e1a5a2",
   "metadata": {},
   "source": [
    "### Splitting the dataset into training and testing dataset"
   ]
  },
  {
   "cell_type": "code",
   "execution_count": 12,
   "id": "128e30b9-5677-47a6-9f58-5ef774682023",
   "metadata": {},
   "outputs": [],
   "source": [
    "x_train, x_test, y_train, y_test = train_test_split(x_scaled, y_scaled, test_size=0.2, random_state=42)"
   ]
  },
  {
   "cell_type": "markdown",
   "id": "e69a1df7-1c58-4167-81cd-b44db3ac5915",
   "metadata": {},
   "source": [
    "---------------------------------------------------------------------------------\n",
    "### Applying linear kernel"
   ]
  },
  {
   "cell_type": "markdown",
   "id": "f6ee727e-1bb4-4804-9e3e-bb118b8df63d",
   "metadata": {},
   "source": [
    "### Linear kernel assumes linear relationship between the features i.e, it uses a straight 2D line to separate the data"
   ]
  },
  {
   "cell_type": "code",
   "execution_count": 13,
   "id": "e75ea830-32ad-4663-94bf-d606e887b61c",
   "metadata": {},
   "outputs": [
    {
     "name": "stdout",
     "output_type": "stream",
     "text": [
      "Results for Linear Kernel - \n",
      "\n",
      "Linear Kernel, C=0.1: MSE=0.2604\n",
      "Linear Kernel, C=1: MSE=0.2621\n",
      "Linear Kernel, C=10: MSE=0.2615\n"
     ]
    }
   ],
   "source": [
    "print(\"Results for Linear Kernel - \\n\")\n",
    "for C in [0.1, 1, 10]:\n",
    "    svr_linear = SVR(kernel=\"linear\", C=C)\n",
    "    svr_linear.fit(x_train, y_train)\n",
    "    \n",
    "    y_pred = svr_linear.predict(x_test)\n",
    "    mse = mean_squared_error(y_test, y_pred)\n",
    "    \n",
    "    print(f\"Linear Kernel, C={C}: MSE={mse:.4f}\")"
   ]
  },
  {
   "cell_type": "markdown",
   "id": "6d356725-7c31-45dc-a811-1fb7e047c4ca",
   "metadata": {},
   "source": [
    "### C=0.1 (MSE=0.2604): The lowest MSE among the three, meaning the model with C=0.1 provides the best generalization to the test data.\n",
    "### C=1 (MSE=0.2621): Slightly higher MSE, which suggests that increasing C did not improve the performance.\n",
    "### C=10 (MSE=0.2615): Marginally better than C=1 but still worse than C=0.1. Increasing C further did not lead to a significant performance gain.\n",
    "\n",
    "### Hence C=0.1 has worked well for the model when implementing linear kernel\n",
    "\n",
    "----------------------------------------------------------------------------"
   ]
  },
  {
   "cell_type": "markdown",
   "id": "a658d9e8-4a1b-4da8-a42d-17f21ec9ca80",
   "metadata": {},
   "source": [
    "### Applying RBF kernel"
   ]
  },
  {
   "cell_type": "markdown",
   "id": "aca2285f-4148-479b-880d-d26121320b67",
   "metadata": {},
   "source": [
    "### RBF kernel maps the original feature space into a higher-dimensional space, allowing the model to find a non-linear decision boundary hence allowing it to capture complex patterns that a linear model cannot capture"
   ]
  },
  {
   "cell_type": "code",
   "execution_count": 14,
   "id": "b3619bee-39c9-4546-a3e4-75b4cdcf9485",
   "metadata": {},
   "outputs": [
    {
     "name": "stdout",
     "output_type": "stream",
     "text": [
      "Results for RBF Kernel - \n",
      "\n",
      "RBF Kernel, C=1, gamma=0.1: MSE=0.3078\n",
      "RBF Kernel, C=1, gamma=0.5: MSE=0.6338\n",
      "RBF Kernel, C=1, gamma=1: MSE=0.7866\n",
      "RBF Kernel, C=10, gamma=0.1: MSE=0.2738\n",
      "RBF Kernel, C=10, gamma=0.5: MSE=0.6281\n",
      "RBF Kernel, C=10, gamma=1: MSE=0.7737\n"
     ]
    }
   ],
   "source": [
    "print(\"Results for RBF Kernel - \\n\")\n",
    "for C in [1, 10]:\n",
    "    for gamma in [0.1, 0.5, 1]:\n",
    "        svr_rbf = SVR(kernel=\"rbf\", C=C, gamma=gamma)\n",
    "        svr_rbf.fit(x_train, y_train)\n",
    "        \n",
    "        y_pred = svr_rbf.predict(x_test)\n",
    "        mse = mean_squared_error(y_test, y_pred)\n",
    "        \n",
    "        print(f\"RBF Kernel, C={C}, gamma={gamma}: MSE={mse:.4f}\")"
   ]
  },
  {
   "cell_type": "markdown",
   "id": "4128de83-d7e7-4ebc-8363-a35cf27e8b0c",
   "metadata": {},
   "source": [
    "### C=10, gamma=0.1 gives the lowest MSE (MSE=0.2738), meaning this combination provides the best model performance on the test data. The model fits well without overfitting.\n",
    "\n",
    "### As gamma increases (for both C=1 and C=10), the MSE increases. This indicates that increasing gamma makes the model more complex and prone to overfitting.\n",
    "\n",
    "### Lower gamma (e.g., gamma=0.1) provides better generalization, while higher gamma (e.g., gamma=1) leads to higher errors due to overfitting.\n",
    "\n",
    "### Higher C (e.g., C=10) leads to better performance because it penalizes errors more aggressively and fits the data more closely.\n",
    "\n",
    "### Hence, the best-performing model using RBF Kernel, C=10, gamma=0.1, with an MSE of 0.2738. This combination provides a good balance between model complexity and generalization."
   ]
  },
  {
   "cell_type": "markdown",
   "id": "fbae7f9c-56e2-46bd-9902-a6b4df2b147a",
   "metadata": {},
   "source": [
    "-------------------------------------------------------"
   ]
  },
  {
   "cell_type": "markdown",
   "id": "cd7163fd-1172-4cbc-aefa-7a457de3c55c",
   "metadata": {},
   "source": [
    "### Plotting the best performing model created using Linear kernel"
   ]
  },
  {
   "cell_type": "code",
   "execution_count": 15,
   "id": "22425144-a242-47cf-b0ab-1e2748dc3901",
   "metadata": {},
   "outputs": [
    {
     "data": {
      "image/png": "[encoded data removed]",
      "text/plain": [
       "<Figure size 1000x600 with 1 Axes>"
      ]
     },
     "metadata": {},
     "output_type": "display_data"
    }
   ],
   "source": [
    "svr_linear_best = SVR(kernel=\"linear\", C=0.1)\n",
    "svr_linear_best.fit(x_train, y_train)\n",
    "y_pred_linear_best = svr_linear_best.predict(x_test)\n",
    "\n",
    "# Reshape y_test and y_pred_linear_best to 2D for inverse_transform\n",
    "y_test_reshaped = y_test.reshape(-1, 1)\n",
    "y_pred_linear_best_reshaped = y_pred_linear_best.reshape(-1, 1)\n",
    "\n",
    "# Inverse transform the predictions and actual values to original scale\n",
    "y_test_original = scaler_y.inverse_transform(y_test_reshaped).flatten()\n",
    "y_pred_linear_best_original = scaler_y.inverse_transform(y_pred_linear_best_reshaped).flatten()\n",
    "\n",
    "# Plot the actual vs predicted prices for Linear Kernel\n",
    "plt.figure(figsize=(10, 6))\n",
    "plt.scatter(range(len(y_test_original)), y_test_original, color=\"blue\", label=\"Actual\")\n",
    "plt.scatter(range(len(y_pred_linear_best_original)), y_pred_linear_best_original, color=\"red\", label=\"Predicted\")\n",
    "plt.title(\"SVR Linear Kernel Predictions\")\n",
    "plt.xlabel(\"Sample Index\")\n",
    "plt.ylabel(\"Price\")\n",
    "plt.legend()\n",
    "plt.show()"
   ]
  },
  {
   "cell_type": "markdown",
   "id": "91f42fc9-1eb9-4e26-9e76-94d47fb4ab29",
   "metadata": {},
   "source": [
    "--------------------------------------------------------------------------------------------------"
   ]
  },
  {
   "cell_type": "markdown",
   "id": "1297c441-6e01-463e-8b00-c5cc2581e279",
   "metadata": {},
   "source": [
    "### Plotting the best performing model created using RBF kernel "
   ]
  },
  {
   "cell_type": "code",
   "execution_count": 16,
   "id": "6247f5bb-e434-4004-8ba5-52ec77c95fd6",
   "metadata": {},
   "outputs": [
    {
     "data": {
      "image/png": "[encoded data removed]",
      "text/plain": [
       "<Figure size 1000x600 with 1 Axes>"
      ]
     },
     "metadata": {},
     "output_type": "display_data"
    }
   ],
   "source": [
    "svr_rbf_best = SVR(kernel=\"rbf\", C=10, gamma=0.1)\n",
    "svr_rbf_best.fit(x_train, y_train)\n",
    "y_pred_best = svr_rbf_best.predict(x_test)\n",
    "\n",
    "# Reshape y_test and y_pred_best to 2D for inverse_transform\n",
    "y_test_reshaped = y_test.reshape(-1, 1)\n",
    "y_pred_best_reshaped = y_pred_best.reshape(-1, 1)\n",
    "\n",
    "# Inverse transform the predictions and actual values to original scale\n",
    "y_test_original = scaler_y.inverse_transform(y_test_reshaped).flatten()\n",
    "y_pred_best_original = scaler_y.inverse_transform(y_pred_best_reshaped).flatten()\n",
    "\n",
    "# Plot the actual vs predicted prices\n",
    "plt.figure(figsize=(10, 6))\n",
    "plt.scatter(range(len(y_test_original)), y_test_original, color=\"blue\", label=\"Actual\")\n",
    "plt.scatter(range(len(y_pred_best_original)), y_pred_best_original, color=\"red\", label=\"Predicted\")\n",
    "plt.title(\"SVR RBF Kernel Predictions\")\n",
    "plt.xlabel(\"Sample Index\")\n",
    "plt.ylabel(\"Price\")\n",
    "plt.legend()\n",
    "plt.show()"
   ]
  },
  {
   "cell_type": "markdown",
   "id": "5bb0ef21-a637-4b51-94ca-9565a47b3813",
   "metadata": {},
   "source": [
    "------"
   ]
  },
  {
   "cell_type": "markdown",
   "id": "20e918d0-93f0-4962-b52c-c86bd6cf0bd1",
   "metadata": {},
   "source": [
    "### Finally, \n",
    "### Best performing Linear Kernel: MSE=0.2604\n",
    "### Best performing RBF Kernel: MSE=0.2738\n",
    "\n",
    "### The linear kernel model has a slightly lower MSE, indicating better performance on the test set."
   ]
  },
  {
   "cell_type": "markdown",
   "id": "26cf6a8d-c029-44f4-8f7f-164871d60f60",
   "metadata": {},
   "source": [
    "------"
   ]
  },
  {
   "cell_type": "code",
   "execution_count": null,
   "id": "ba43666d-f8ea-4473-9bed-5abc485968ec",
   "metadata": {},
   "outputs": [],
   "source": []
  }
 ],
 "metadata": {
  "kernelspec": {
   "display_name": "Python 3 (ipykernel)",
   "language": "python",
   "name": "python3"
  },
  "language_info": {
   "codemirror_mode": {
    "name": "ipython",
    "version": 3
   },
   "file_extension": ".py",
   "mimetype": "text/x-python",
   "name": "python",
   "nbconvert_exporter": "python",
   "pygments_lexer": "ipython3",
   "version": "3.12.6"
  }
 },
 "nbformat": 4,
 "nbformat_minor": 5
}
